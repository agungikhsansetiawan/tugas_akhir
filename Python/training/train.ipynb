{
 "cells": [
  {
   "cell_type": "markdown",
   "metadata": {},
   "source": [
    "# 1. Mengatur Direktori/Path"
   ]
  },
  {
   "cell_type": "code",
   "execution_count": 1,
   "metadata": {},
   "outputs": [],
   "source": [
    "apimodel_path = \"C:\\\\Users\\\\Ican\\\\Tensorflow\\\\models\"\n",
    "scripts_path = \"C:\\\\Users\\\\Ican\\\\Tensorflow\\\\scripts\"\n",
    "workspace_path = \"C:\\\\Users\\\\Ican\\\\Tensorflow\\\\TA\"\n",
    "annotation_path = f\"{workspace_path}\\\\annotations\"\n",
    "custom_model_path = f\"{workspace_path}\\\\models\"\n",
    "image_path = f\"{workspace_path}\\\\images\"\n",
    "pretrained_model_path = f\"{workspace_path}\\\\pre-trained-models\"\n",
    "pretrained_model = \"efficientdet_d1_coco17_tpu-32\"\n",
    "custom_model_name = \"efficientdet_d1\"\n",
    "checkpoint_path = f\"{custom_model_path}\\\\{custom_model_name}\"\n",
    "config_path = f\"{custom_model_path}\\\\{custom_model_name}\\\\pipeline.config\""
   ]
  },
  {
   "cell_type": "markdown",
   "metadata": {},
   "source": [
    "# 2. Membuat label map"
   ]
  },
  {
   "cell_type": "code",
   "execution_count": 2,
   "metadata": {},
   "outputs": [],
   "source": [
    "labels = [{\"name\": \"person\", \"id\" : 1}]"
   ]
  },
  {
   "cell_type": "code",
   "execution_count": 3,
   "metadata": {},
   "outputs": [
    {
     "data": {
      "text/plain": [
       "[{'name': 'person', 'id': 1}]"
      ]
     },
     "execution_count": 3,
     "metadata": {},
     "output_type": "execute_result"
    }
   ],
   "source": [
    "labels"
   ]
  },
  {
   "cell_type": "code",
   "execution_count": 8,
   "metadata": {},
   "outputs": [],
   "source": [
    "with open(f\"{annotation_path}\\\\label_map.pbtxt\", \"w\") as f:\n",
    "    for label in labels:\n",
    "        f.write(\"item{\\n\")\n",
    "        f.write(f\"      id:{label['id']}\" + \"\\n\")\n",
    "        f.write(f\"      name:'{label['name']}'\"+ \"\\n\")\n",
    "        f.write(\"}\\n\")"
   ]
  },
  {
   "cell_type": "markdown",
   "metadata": {},
   "source": [
    "# 3. Membuat TF records"
   ]
  },
  {
   "cell_type": "code",
   "execution_count": 9,
   "metadata": {},
   "outputs": [
    {
     "name": "stdout",
     "output_type": "stream",
     "text": [
      "Successfully created the TFRecord file: C:\\Users\\Ican\\Tensorflow\\TA\\annotations\\train.tfrecord\n",
      "Successfully created the TFRecord file: C:\\Users\\Ican\\Tensorflow\\TA\\annotations\\test.tfrecord\n"
     ]
    }
   ],
   "source": [
    "!python {scripts_path + \"\\\\preprocessing\\\\generate_tfrecord.py\"} -x {image_path + \"\\\\train\"} -l{annotation_path + \"\\\\label_map.pbtxt\"} -o {annotation_path + \"\\\\train.tfrecord\"}\n",
    "!python {scripts_path + \"\\\\preprocessing\\\\generate_tfrecord.py\"} -x {image_path + \"\\\\test\"} -l{annotation_path + \"\\\\label_map.pbtxt\"} -o {annotation_path + \"\\\\test.tfrecord\"}"
   ]
  },
  {
   "cell_type": "markdown",
   "metadata": {},
   "source": [
    "# 4. Clone tensorflow-api dan download pre-trained models"
   ]
  },
  {
   "cell_type": "markdown",
   "metadata": {},
   "source": [
    "clone tensorflow-apinya diletakan di folder Main:\n",
    "\n",
    "!cd Main && git clone https://github.com/tensorflow/models\n",
    "\n",
    "langkah selanjutnya dari tensorflow-api dapat dilihat pada web berikut : https://tensorflow-object-detection-api-tutorial.readthedocs.io/en/latest/install.html\n",
    "\n",
    "pre-trained model dapat didownload di: https://github.com/tensorflow/models/blob/master/research/object_detection/g3doc/tf2_detection_zoo.md\n"
   ]
  },
  {
   "cell_type": "markdown",
   "metadata": {},
   "source": [
    "# 5. Copy config model dari pre-trained model ke folder models yang ada di workspace"
   ]
  },
  {
   "cell_type": "code",
   "execution_count": 3,
   "metadata": {},
   "outputs": [
    {
     "data": {
      "text/plain": [
       "'C:\\\\Users\\\\Ican\\\\Tensorflow\\\\TA\\\\models\\\\efficientdet_d1\\\\pipeline.config'"
      ]
     },
     "execution_count": 3,
     "metadata": {},
     "output_type": "execute_result"
    }
   ],
   "source": [
    "!mkdir {checkpoint_path}\n",
    "import shutil\n",
    "shutil.copy(f\"{pretrained_model_path}\\\\{pretrained_model}\\\\pipeline.config\", f\"{checkpoint_path}\")"
   ]
  },
  {
   "cell_type": "markdown",
   "metadata": {},
   "source": [
    "# 6. Update file config yang dicopy tadi Untuk Transfer Learning"
   ]
  },
  {
   "cell_type": "code",
   "execution_count": 2,
   "metadata": {},
   "outputs": [],
   "source": [
    "import tensorflow as tf\n",
    "from object_detection.utils import config_util\n",
    "from object_detection.protos import pipeline_pb2\n",
    "from google.protobuf import text_format"
   ]
  },
  {
   "cell_type": "code",
   "execution_count": 5,
   "metadata": {},
   "outputs": [],
   "source": [
    "config = config_util.get_configs_from_pipeline_file(config_path)"
   ]
  },
  {
   "cell_type": "code",
   "execution_count": 6,
   "metadata": {},
   "outputs": [
    {
     "data": {
      "text/plain": [
       "{'model': ssd {\n",
       "   num_classes: 90\n",
       "   image_resizer {\n",
       "     keep_aspect_ratio_resizer {\n",
       "       min_dimension: 640\n",
       "       max_dimension: 640\n",
       "       pad_to_max_dimension: true\n",
       "     }\n",
       "   }\n",
       "   feature_extractor {\n",
       "     type: \"ssd_efficientnet-b1_bifpn_keras\"\n",
       "     conv_hyperparams {\n",
       "       regularizer {\n",
       "         l2_regularizer {\n",
       "           weight: 3.9999998989515007e-05\n",
       "         }\n",
       "       }\n",
       "       initializer {\n",
       "         truncated_normal_initializer {\n",
       "           mean: 0.0\n",
       "           stddev: 0.029999999329447746\n",
       "         }\n",
       "       }\n",
       "       activation: SWISH\n",
       "       batch_norm {\n",
       "         decay: 0.9900000095367432\n",
       "         scale: true\n",
       "         epsilon: 0.0010000000474974513\n",
       "       }\n",
       "       force_use_bias: true\n",
       "     }\n",
       "     bifpn {\n",
       "       min_level: 3\n",
       "       max_level: 7\n",
       "       num_iterations: 4\n",
       "       num_filters: 88\n",
       "     }\n",
       "   }\n",
       "   box_coder {\n",
       "     faster_rcnn_box_coder {\n",
       "       y_scale: 1.0\n",
       "       x_scale: 1.0\n",
       "       height_scale: 1.0\n",
       "       width_scale: 1.0\n",
       "     }\n",
       "   }\n",
       "   matcher {\n",
       "     argmax_matcher {\n",
       "       matched_threshold: 0.5\n",
       "       unmatched_threshold: 0.5\n",
       "       ignore_thresholds: false\n",
       "       negatives_lower_than_unmatched: true\n",
       "       force_match_for_each_row: true\n",
       "       use_matmul_gather: true\n",
       "     }\n",
       "   }\n",
       "   similarity_calculator {\n",
       "     iou_similarity {\n",
       "     }\n",
       "   }\n",
       "   box_predictor {\n",
       "     weight_shared_convolutional_box_predictor {\n",
       "       conv_hyperparams {\n",
       "         regularizer {\n",
       "           l2_regularizer {\n",
       "             weight: 3.9999998989515007e-05\n",
       "           }\n",
       "         }\n",
       "         initializer {\n",
       "           random_normal_initializer {\n",
       "             mean: 0.0\n",
       "             stddev: 0.009999999776482582\n",
       "           }\n",
       "         }\n",
       "         activation: SWISH\n",
       "         batch_norm {\n",
       "           decay: 0.9900000095367432\n",
       "           scale: true\n",
       "           epsilon: 0.0010000000474974513\n",
       "         }\n",
       "         force_use_bias: true\n",
       "       }\n",
       "       depth: 88\n",
       "       num_layers_before_predictor: 3\n",
       "       kernel_size: 3\n",
       "       class_prediction_bias_init: -4.599999904632568\n",
       "       use_depthwise: true\n",
       "     }\n",
       "   }\n",
       "   anchor_generator {\n",
       "     multiscale_anchor_generator {\n",
       "       min_level: 3\n",
       "       max_level: 7\n",
       "       anchor_scale: 4.0\n",
       "       aspect_ratios: 1.0\n",
       "       aspect_ratios: 2.0\n",
       "       aspect_ratios: 0.5\n",
       "       scales_per_octave: 3\n",
       "     }\n",
       "   }\n",
       "   post_processing {\n",
       "     batch_non_max_suppression {\n",
       "       score_threshold: 9.99999993922529e-09\n",
       "       iou_threshold: 0.5\n",
       "       max_detections_per_class: 100\n",
       "       max_total_detections: 100\n",
       "     }\n",
       "     score_converter: SIGMOID\n",
       "   }\n",
       "   normalize_loss_by_num_matches: true\n",
       "   loss {\n",
       "     localization_loss {\n",
       "       weighted_smooth_l1 {\n",
       "       }\n",
       "     }\n",
       "     classification_loss {\n",
       "       weighted_sigmoid_focal {\n",
       "         gamma: 1.5\n",
       "         alpha: 0.25\n",
       "       }\n",
       "     }\n",
       "     classification_weight: 1.0\n",
       "     localization_weight: 1.0\n",
       "   }\n",
       "   encode_background_as_zeros: true\n",
       "   normalize_loc_loss_by_codesize: true\n",
       "   inplace_batchnorm_update: true\n",
       "   freeze_batchnorm: false\n",
       "   add_background_class: false\n",
       " },\n",
       " 'train_config': batch_size: 128\n",
       " data_augmentation_options {\n",
       "   random_horizontal_flip {\n",
       "   }\n",
       " }\n",
       " data_augmentation_options {\n",
       "   random_scale_crop_and_pad_to_square {\n",
       "     output_size: 640\n",
       "     scale_min: 0.10000000149011612\n",
       "     scale_max: 2.0\n",
       "   }\n",
       " }\n",
       " sync_replicas: true\n",
       " optimizer {\n",
       "   momentum_optimizer {\n",
       "     learning_rate {\n",
       "       cosine_decay_learning_rate {\n",
       "         learning_rate_base: 0.07999999821186066\n",
       "         total_steps: 300000\n",
       "         warmup_learning_rate: 0.0010000000474974513\n",
       "         warmup_steps: 2500\n",
       "       }\n",
       "     }\n",
       "     momentum_optimizer_value: 0.8999999761581421\n",
       "   }\n",
       "   use_moving_average: false\n",
       " }\n",
       " fine_tune_checkpoint: \"PATH_TO_BE_CONFIGURED\"\n",
       " num_steps: 300000\n",
       " startup_delay_steps: 0.0\n",
       " replicas_to_aggregate: 8\n",
       " max_number_of_boxes: 100\n",
       " unpad_groundtruth_tensors: false\n",
       " fine_tune_checkpoint_type: \"classification\"\n",
       " use_bfloat16: true\n",
       " fine_tune_checkpoint_version: V2,\n",
       " 'train_input_config': label_map_path: \"PATH_TO_BE_CONFIGURED/label_map.txt\"\n",
       " tf_record_input_reader {\n",
       "   input_path: \"PATH_TO_BE_CONFIGURED/train2017-?????-of-00256.tfrecord\"\n",
       " },\n",
       " 'eval_config': metrics_set: \"coco_detection_metrics\"\n",
       " use_moving_averages: false\n",
       " batch_size: 1,\n",
       " 'eval_input_configs': [label_map_path: \"PATH_TO_BE_CONFIGURED/label_map.txt\"\n",
       " shuffle: false\n",
       " num_epochs: 1\n",
       " tf_record_input_reader {\n",
       "   input_path: \"PATH_TO_BE_CONFIGURED/val2017-?????-of-00032.tfrecord\"\n",
       " }\n",
       " ],\n",
       " 'eval_input_config': label_map_path: \"PATH_TO_BE_CONFIGURED/label_map.txt\"\n",
       " shuffle: false\n",
       " num_epochs: 1\n",
       " tf_record_input_reader {\n",
       "   input_path: \"PATH_TO_BE_CONFIGURED/val2017-?????-of-00032.tfrecord\"\n",
       " }}"
      ]
     },
     "execution_count": 6,
     "metadata": {},
     "output_type": "execute_result"
    }
   ],
   "source": [
    "config"
   ]
  },
  {
   "cell_type": "code",
   "execution_count": 7,
   "metadata": {},
   "outputs": [],
   "source": [
    "# Update data config\n",
    "pipeline_config = pipeline_pb2.TrainEvalPipelineConfig()\n",
    "with tf.io.gfile.GFile(config_path, \"r\") as f:\n",
    "    proto_str = f.read()\n",
    "    text_format.Merge(proto_str, pipeline_config)"
   ]
  },
  {
   "cell_type": "code",
   "execution_count": 8,
   "metadata": {},
   "outputs": [],
   "source": [
    "pipeline_config.model.ssd.num_classes = 1\n",
    "pipeline_config.train_config.batch_size = int(128/64)\n",
    "pipeline_config.train_config.optimizer.momentum_optimizer.learning_rate.cosine_decay_learning_rate.learning_rate_base = 0.07999999821186066/64\n",
    "pipeline_config.train_config.optimizer.momentum_optimizer.learning_rate.cosine_decay_learning_rate.warmup_learning_rate = 0.0010000000474974513/64\n",
    "pipeline_config.train_config.fine_tune_checkpoint = f\"{pretrained_model_path}/{pretrained_model}/checkpoint/ckpt-0\"\n",
    "pipeline_config.train_config.fine_tune_checkpoint_type = \"detection\"\n",
    "pipeline_config.train_config.use_bfloat16 = False\n",
    "pipeline_config.train_input_reader.label_map_path = f\"{annotation_path}/label_map.pbtxt\"\n",
    "pipeline_config.train_input_reader.tf_record_input_reader.input_path[:] = [f\"{annotation_path}/train.tfrecord\"]\n",
    "pipeline_config.eval_input_reader[0].label_map_path = f\"{annotation_path}/label_map.pbtxt\"\n",
    "pipeline_config.eval_input_reader[0].tf_record_input_reader.input_path[:] = [f\"{annotation_path}/test.tfrecord\"]"
   ]
  },
  {
   "cell_type": "code",
   "execution_count": 9,
   "metadata": {},
   "outputs": [
    {
     "data": {
      "text/plain": [
       "model {\n",
       "  ssd {\n",
       "    num_classes: 1\n",
       "    image_resizer {\n",
       "      keep_aspect_ratio_resizer {\n",
       "        min_dimension: 640\n",
       "        max_dimension: 640\n",
       "        pad_to_max_dimension: true\n",
       "      }\n",
       "    }\n",
       "    feature_extractor {\n",
       "      type: \"ssd_efficientnet-b1_bifpn_keras\"\n",
       "      conv_hyperparams {\n",
       "        regularizer {\n",
       "          l2_regularizer {\n",
       "            weight: 3.9999998989515007e-05\n",
       "          }\n",
       "        }\n",
       "        initializer {\n",
       "          truncated_normal_initializer {\n",
       "            mean: 0.0\n",
       "            stddev: 0.029999999329447746\n",
       "          }\n",
       "        }\n",
       "        activation: SWISH\n",
       "        batch_norm {\n",
       "          decay: 0.9900000095367432\n",
       "          scale: true\n",
       "          epsilon: 0.0010000000474974513\n",
       "        }\n",
       "        force_use_bias: true\n",
       "      }\n",
       "      bifpn {\n",
       "        min_level: 3\n",
       "        max_level: 7\n",
       "        num_iterations: 4\n",
       "        num_filters: 88\n",
       "      }\n",
       "    }\n",
       "    box_coder {\n",
       "      faster_rcnn_box_coder {\n",
       "        y_scale: 1.0\n",
       "        x_scale: 1.0\n",
       "        height_scale: 1.0\n",
       "        width_scale: 1.0\n",
       "      }\n",
       "    }\n",
       "    matcher {\n",
       "      argmax_matcher {\n",
       "        matched_threshold: 0.5\n",
       "        unmatched_threshold: 0.5\n",
       "        ignore_thresholds: false\n",
       "        negatives_lower_than_unmatched: true\n",
       "        force_match_for_each_row: true\n",
       "        use_matmul_gather: true\n",
       "      }\n",
       "    }\n",
       "    similarity_calculator {\n",
       "      iou_similarity {\n",
       "      }\n",
       "    }\n",
       "    box_predictor {\n",
       "      weight_shared_convolutional_box_predictor {\n",
       "        conv_hyperparams {\n",
       "          regularizer {\n",
       "            l2_regularizer {\n",
       "              weight: 3.9999998989515007e-05\n",
       "            }\n",
       "          }\n",
       "          initializer {\n",
       "            random_normal_initializer {\n",
       "              mean: 0.0\n",
       "              stddev: 0.009999999776482582\n",
       "            }\n",
       "          }\n",
       "          activation: SWISH\n",
       "          batch_norm {\n",
       "            decay: 0.9900000095367432\n",
       "            scale: true\n",
       "            epsilon: 0.0010000000474974513\n",
       "          }\n",
       "          force_use_bias: true\n",
       "        }\n",
       "        depth: 88\n",
       "        num_layers_before_predictor: 3\n",
       "        kernel_size: 3\n",
       "        class_prediction_bias_init: -4.599999904632568\n",
       "        use_depthwise: true\n",
       "      }\n",
       "    }\n",
       "    anchor_generator {\n",
       "      multiscale_anchor_generator {\n",
       "        min_level: 3\n",
       "        max_level: 7\n",
       "        anchor_scale: 4.0\n",
       "        aspect_ratios: 1.0\n",
       "        aspect_ratios: 2.0\n",
       "        aspect_ratios: 0.5\n",
       "        scales_per_octave: 3\n",
       "      }\n",
       "    }\n",
       "    post_processing {\n",
       "      batch_non_max_suppression {\n",
       "        score_threshold: 9.99999993922529e-09\n",
       "        iou_threshold: 0.5\n",
       "        max_detections_per_class: 100\n",
       "        max_total_detections: 100\n",
       "      }\n",
       "      score_converter: SIGMOID\n",
       "    }\n",
       "    normalize_loss_by_num_matches: true\n",
       "    loss {\n",
       "      localization_loss {\n",
       "        weighted_smooth_l1 {\n",
       "        }\n",
       "      }\n",
       "      classification_loss {\n",
       "        weighted_sigmoid_focal {\n",
       "          gamma: 1.5\n",
       "          alpha: 0.25\n",
       "        }\n",
       "      }\n",
       "      classification_weight: 1.0\n",
       "      localization_weight: 1.0\n",
       "    }\n",
       "    encode_background_as_zeros: true\n",
       "    normalize_loc_loss_by_codesize: true\n",
       "    inplace_batchnorm_update: true\n",
       "    freeze_batchnorm: false\n",
       "    add_background_class: false\n",
       "  }\n",
       "}\n",
       "train_config {\n",
       "  batch_size: 2\n",
       "  data_augmentation_options {\n",
       "    random_horizontal_flip {\n",
       "    }\n",
       "  }\n",
       "  data_augmentation_options {\n",
       "    random_scale_crop_and_pad_to_square {\n",
       "      output_size: 640\n",
       "      scale_min: 0.10000000149011612\n",
       "      scale_max: 2.0\n",
       "    }\n",
       "  }\n",
       "  sync_replicas: true\n",
       "  optimizer {\n",
       "    momentum_optimizer {\n",
       "      learning_rate {\n",
       "        cosine_decay_learning_rate {\n",
       "          learning_rate_base: 0.0012499999720603228\n",
       "          total_steps: 300000\n",
       "          warmup_learning_rate: 1.5625000742147677e-05\n",
       "          warmup_steps: 2500\n",
       "        }\n",
       "      }\n",
       "      momentum_optimizer_value: 0.8999999761581421\n",
       "    }\n",
       "    use_moving_average: false\n",
       "  }\n",
       "  fine_tune_checkpoint: \"C:\\\\Users\\\\Ican\\\\Tensorflow\\\\TA\\\\pre-trained-models/efficientdet_d1_coco17_tpu-32/checkpoint/ckpt-0\"\n",
       "  num_steps: 300000\n",
       "  startup_delay_steps: 0.0\n",
       "  replicas_to_aggregate: 8\n",
       "  max_number_of_boxes: 100\n",
       "  unpad_groundtruth_tensors: false\n",
       "  fine_tune_checkpoint_type: \"detection\"\n",
       "  use_bfloat16: false\n",
       "  fine_tune_checkpoint_version: V2\n",
       "}\n",
       "train_input_reader {\n",
       "  label_map_path: \"C:\\\\Users\\\\Ican\\\\Tensorflow\\\\TA\\\\annotations/label_map.pbtxt\"\n",
       "  tf_record_input_reader {\n",
       "    input_path: \"C:\\\\Users\\\\Ican\\\\Tensorflow\\\\TA\\\\annotations/train.tfrecord\"\n",
       "  }\n",
       "}\n",
       "eval_config {\n",
       "  metrics_set: \"coco_detection_metrics\"\n",
       "  use_moving_averages: false\n",
       "  batch_size: 1\n",
       "}\n",
       "eval_input_reader {\n",
       "  label_map_path: \"C:\\\\Users\\\\Ican\\\\Tensorflow\\\\TA\\\\annotations/label_map.pbtxt\"\n",
       "  shuffle: false\n",
       "  num_epochs: 1\n",
       "  tf_record_input_reader {\n",
       "    input_path: \"C:\\\\Users\\\\Ican\\\\Tensorflow\\\\TA\\\\annotations/test.tfrecord\"\n",
       "  }\n",
       "}"
      ]
     },
     "execution_count": 9,
     "metadata": {},
     "output_type": "execute_result"
    }
   ],
   "source": [
    "pipeline_config"
   ]
  },
  {
   "cell_type": "code",
   "execution_count": 10,
   "metadata": {},
   "outputs": [],
   "source": [
    "#save dan replace config baru\n",
    "config_text = text_format.MessageToString(pipeline_config)\n",
    "with tf.io.gfile.GFile(config_path, \"wb\") as f:\n",
    "    f.write(config_text)"
   ]
  },
  {
   "cell_type": "markdown",
   "metadata": {},
   "source": [
    "# 7. Training Model"
   ]
  },
  {
   "cell_type": "code",
   "execution_count": 11,
   "metadata": {},
   "outputs": [
    {
     "name": "stdout",
     "output_type": "stream",
     "text": [
      "python C:\\Users\\Ican\\Tensorflow\\models/research/object_detection/model_main_tf2.py --model_dir=C:\\Users\\Ican\\Tensorflow\\TA\\models\\efficientdet_d1 --pipeline_config_path=C:\\Users\\Ican\\Tensorflow\\TA\\models\\efficientdet_d1\\pipeline.config --num_train_steps=10000\n"
     ]
    }
   ],
   "source": [
    "print(f\"python {apimodel_path}/research/object_detection/model_main_tf2.py --model_dir={checkpoint_path} --pipeline_config_path={config_path} --num_train_steps=10000\")"
   ]
  },
  {
   "cell_type": "markdown",
   "metadata": {},
   "source": [
    "Tanpa Jumlah Step yang Diatur"
   ]
  },
  {
   "cell_type": "code",
   "execution_count": 12,
   "metadata": {},
   "outputs": [
    {
     "name": "stdout",
     "output_type": "stream",
     "text": [
      "python C:\\Users\\Ican\\Tensorflow\\models/research/object_detection/model_main_tf2.py --model_dir=C:\\Users\\Ican\\Tensorflow\\TA\\models\\efficientdet_d1 --pipeline_config_path=C:\\Users\\Ican\\Tensorflow\\TA\\models\\efficientdet_d1\\pipeline.config\n"
     ]
    }
   ],
   "source": [
    "print(f\"python {apimodel_path}/research/object_detection/model_main_tf2.py --model_dir={checkpoint_path} --pipeline_config_path={config_path}\")"
   ]
  },
  {
   "cell_type": "markdown",
   "metadata": {},
   "source": [
    "Jika Ingin mengevaluasi Model Menggunakan COCO evaluation metrics (Jika proses train tidak pakai num_steps, maka pada evaluasi juga tidak dipakai)"
   ]
  },
  {
   "cell_type": "code",
   "execution_count": 3,
   "metadata": {},
   "outputs": [
    {
     "name": "stdout",
     "output_type": "stream",
     "text": [
      "python C:\\Users\\Ican\\Tensorflow\\models/research/object_detection/model_main_tf2.py --model_dir=C:\\Users\\Ican\\Tensorflow\\TA\\models\\efficientdet_d1 --pipeline_config_path=C:\\Users\\Ican\\Tensorflow\\TA\\models\\efficientdet_d1\\pipeline.config --checkpoint_dir=C:\\Users\\Ican\\Tensorflow\\TA\\models\\efficientdet_d1\n"
     ]
    }
   ],
   "source": [
    "print(f\"python {apimodel_path}/research/object_detection/model_main_tf2.py --model_dir={checkpoint_path} --pipeline_config_path={config_path} --checkpoint_dir={checkpoint_path}\")"
   ]
  },
  {
   "cell_type": "markdown",
   "metadata": {},
   "source": [
    "Monitoring di Tensorboard"
   ]
  },
  {
   "cell_type": "code",
   "execution_count": 5,
   "metadata": {},
   "outputs": [
    {
     "name": "stdout",
     "output_type": "stream",
     "text": [
      "tensorboard --logdir=C:\\Users\\Ican\\Tensorflow\\TA\\models\\efficientdet_d1\n"
     ]
    }
   ],
   "source": [
    "print(f\"tensorboard --logdir={checkpoint_path}\")"
   ]
  },
  {
   "cell_type": "markdown",
   "metadata": {},
   "source": [
    "copy dan paste hasil print diatas ke cmd yang telah diganti direktorinya"
   ]
  }
 ],
 "metadata": {
  "kernelspec": {
   "display_name": "tensorflow",
   "language": "python",
   "name": "python3"
  },
  "language_info": {
   "codemirror_mode": {
    "name": "ipython",
    "version": 3
   },
   "file_extension": ".py",
   "mimetype": "text/x-python",
   "name": "python",
   "nbconvert_exporter": "python",
   "pygments_lexer": "ipython3",
   "version": "3.10.12"
  },
  "orig_nbformat": 4
 },
 "nbformat": 4,
 "nbformat_minor": 2
}
